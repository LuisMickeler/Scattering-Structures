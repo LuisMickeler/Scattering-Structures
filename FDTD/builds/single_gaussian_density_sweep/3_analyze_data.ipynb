{
 "cells": [
  {
   "cell_type": "code",
   "execution_count": 1,
   "id": "initial_id",
   "metadata": {
    "collapsed": true,
    "ExecuteTime": {
     "end_time": "2023-11-14T11:58:41.112384500Z",
     "start_time": "2023-11-14T11:58:02.793406600Z"
    }
   },
   "outputs": [
    {
     "name": "stderr",
     "output_type": "stream",
     "text": [
      "C:\\Program Files\\Lumerical\\v232\\api\\python\\lumapi.py:882: SyntaxWarning: invalid escape sequence '\\s'\n",
      "  message = re.sub('^(Error:)\\s(prompt line)\\s[0-9]+:', '', str(rvals[2])).strip()\n"
     ]
    }
   ],
   "source": [
    "import importlib.util\n",
    "import os\n",
    "\n",
    "# Add the DLL directory\n",
    "os.add_dll_directory(\"C:\\\\Program Files\\\\Lumerical\\\\v232\\\\api\\\\python\")\n",
    "\n",
    "# Define the module name and file path\n",
    "module_name = \"lumapi\"\n",
    "# file_path = \"C:\\\\Program Files\\\\Lumerical\\\\v232\\\\api\\\\python\\\\lumapi.py\"\n",
    "file_path = \"C:\\\\Program Files\\\\Lumerical\\\\v232\\\\api\\\\python\\\\lumapi.py\"\n",
    "\n",
    "def load_module_from_file(module_name, file_path):\n",
    "    spec = importlib.util.spec_from_file_location(module_name, file_path)\n",
    "    module = importlib.util.module_from_spec(spec)\n",
    "    spec.loader.exec_module(module)\n",
    "    return module\n",
    "\n",
    "# Load the module\n",
    "lumapi = load_module_from_file(module_name, file_path)\n",
    "fdtd = lumapi.FDTD()"
   ]
  },
  {
   "cell_type": "markdown",
   "source": [
    "Let's do a first test where I open an existing FDTD which has been run and try to export some data from a fixed monitor."
   ],
   "metadata": {
    "collapsed": false
   },
   "id": "bce7b1ea9fefeaec"
  },
  {
   "cell_type": "code",
   "execution_count": 2,
   "outputs": [],
   "source": [
    "#open the lumerical file lumerical_results\\\\single_gaussian_ring-density=0,1.fsp\n",
    "fdtd.load(\"lumerical_results\\\\single_gaussian_ring-density=0,1.fsp\")"
   ],
   "metadata": {
    "collapsed": false,
    "ExecuteTime": {
     "end_time": "2023-11-14T11:59:14.457248700Z",
     "start_time": "2023-11-14T11:58:50.219753300Z"
    }
   },
   "id": "456da70f05047d5"
  },
  {
   "cell_type": "code",
   "execution_count": 6,
   "outputs": [],
   "source": [
    "T = fdtd.getresult(\"2D X-normal:T\")"
   ],
   "metadata": {
    "collapsed": false,
    "ExecuteTime": {
     "end_time": "2023-11-14T12:24:36.801233100Z",
     "start_time": "2023-11-14T12:24:36.716630200Z"
    }
   },
   "id": "76c442e5a9ef9ad7"
  },
  {
   "cell_type": "code",
   "execution_count": null,
   "outputs": [],
   "source": [],
   "metadata": {
    "collapsed": false
   },
   "id": "5fe55c6d3d34581a"
  }
 ],
 "metadata": {
  "kernelspec": {
   "display_name": "Python 3",
   "language": "python",
   "name": "python3"
  },
  "language_info": {
   "codemirror_mode": {
    "name": "ipython",
    "version": 2
   },
   "file_extension": ".py",
   "mimetype": "text/x-python",
   "name": "python",
   "nbconvert_exporter": "python",
   "pygments_lexer": "ipython2",
   "version": "2.7.6"
  }
 },
 "nbformat": 4,
 "nbformat_minor": 5
}
