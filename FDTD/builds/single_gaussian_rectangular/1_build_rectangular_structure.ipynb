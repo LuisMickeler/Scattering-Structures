{
 "cells": [
  {
   "cell_type": "code",
   "execution_count": 1,
   "id": "initial_id",
   "metadata": {
    "collapsed": true,
    "ExecuteTime": {
     "end_time": "2023-11-17T14:08:49.610644400Z",
     "start_time": "2023-11-17T14:08:46.630540Z"
    }
   },
   "outputs": [],
   "source": [
    "# import the module build in a different folder\n",
    "from scattering_structure.scattering_structure import ScatteringStructure\n",
    "import numpy as np\n",
    "import importlib.util\n",
    "import os\n"
   ]
  },
  {
   "cell_type": "markdown",
   "source": [
    "Create a rectangular structure with a lattice constant satisfying the bragg condition"
   ],
   "metadata": {
    "collapsed": false
   },
   "id": "8fc60188f993ef2b"
  },
  {
   "cell_type": "code",
   "execution_count": 2,
   "outputs": [
    {
     "ename": "KeyError",
     "evalue": "'circle_radius'",
     "output_type": "error",
     "traceback": [
      "\u001B[1;31m---------------------------------------------------------------------------\u001B[0m",
      "\u001B[1;31mKeyError\u001B[0m                                  Traceback (most recent call last)",
      "Cell \u001B[1;32mIn[2], line 10\u001B[0m\n\u001B[0;32m      3\u001B[0m d\u001B[38;5;241m*\u001B[39m\u001B[38;5;241m=\u001B[39m \u001B[38;5;241m10\u001B[39m\n\u001B[0;32m      5\u001B[0m rect \u001B[38;5;241m=\u001B[39m ScatteringStructure(geometry\u001B[38;5;241m=\u001B[39m{\u001B[38;5;124m'\u001B[39m\u001B[38;5;124mtype\u001B[39m\u001B[38;5;124m'\u001B[39m: \u001B[38;5;124m'\u001B[39m\u001B[38;5;124mbox\u001B[39m\u001B[38;5;124m'\u001B[39m, \u001B[38;5;124m'\u001B[39m\u001B[38;5;124mlx\u001B[39m\u001B[38;5;124m'\u001B[39m: \u001B[38;5;241m200\u001B[39m, \u001B[38;5;124m'\u001B[39m\u001B[38;5;124mly\u001B[39m\u001B[38;5;124m'\u001B[39m: \u001B[38;5;241m200\u001B[39m},\n\u001B[0;32m      6\u001B[0m                            arrangement\u001B[38;5;241m=\u001B[39m{\u001B[38;5;124m'\u001B[39m\u001B[38;5;124mtype\u001B[39m\u001B[38;5;124m'\u001B[39m:\u001B[38;5;124m'\u001B[39m\u001B[38;5;124mrectangular\u001B[39m\u001B[38;5;124m'\u001B[39m, \u001B[38;5;124m'\u001B[39m\u001B[38;5;124moptimization\u001B[39m\u001B[38;5;124m'\u001B[39m: \u001B[38;5;28;01mFalse\u001B[39;00m,\n\u001B[0;32m      7\u001B[0m                                         \u001B[38;5;124m'\u001B[39m\u001B[38;5;124mdist\u001B[39m\u001B[38;5;124m'\u001B[39m:d},\n\u001B[0;32m      8\u001B[0m                            scatterer_radius\u001B[38;5;241m=\u001B[39m\u001B[38;5;241m1.343\u001B[39m\n\u001B[0;32m      9\u001B[0m                            )\n\u001B[1;32m---> 10\u001B[0m \u001B[43mrect\u001B[49m\u001B[38;5;241;43m.\u001B[39;49m\u001B[43mplot_device\u001B[49m\u001B[43m(\u001B[49m\u001B[43m)\u001B[49m\n",
      "File \u001B[1;32m~\\Documents\\Masterarbeit\\Scattering Structures\\scattering_structure\\scattering_structure.py:309\u001B[0m, in \u001B[0;36mScatteringStructure.plot_device\u001B[1;34m(self)\u001B[0m\n\u001B[0;32m    306\u001B[0m plt\u001B[38;5;241m.\u001B[39mscatter(x, y, s\u001B[38;5;241m=\u001B[39mnp\u001B[38;5;241m.\u001B[39mpi \u001B[38;5;241m*\u001B[39m \u001B[38;5;28mself\u001B[39m\u001B[38;5;241m.\u001B[39mscatterer_radius \u001B[38;5;241m*\u001B[39m\u001B[38;5;241m*\u001B[39m \u001B[38;5;241m2\u001B[39m)\n\u001B[0;32m    308\u001B[0m \u001B[38;5;66;03m# Plot the circle\u001B[39;00m\n\u001B[1;32m--> 309\u001B[0m circle_radius \u001B[38;5;241m=\u001B[39m \u001B[38;5;28;43mself\u001B[39;49m\u001B[38;5;241;43m.\u001B[39;49m\u001B[43mgeometry\u001B[49m\u001B[43m[\u001B[49m\u001B[38;5;124;43m'\u001B[39;49m\u001B[38;5;124;43mcircle_radius\u001B[39;49m\u001B[38;5;124;43m'\u001B[39;49m\u001B[43m]\u001B[49m\n\u001B[0;32m    310\u001B[0m circle \u001B[38;5;241m=\u001B[39m plt\u001B[38;5;241m.\u001B[39mCircle((\u001B[38;5;241m0\u001B[39m, \u001B[38;5;241m0\u001B[39m), circle_radius, color\u001B[38;5;241m=\u001B[39m\u001B[38;5;124m'\u001B[39m\u001B[38;5;124mr\u001B[39m\u001B[38;5;124m'\u001B[39m, fill\u001B[38;5;241m=\u001B[39m\u001B[38;5;28;01mFalse\u001B[39;00m,\n\u001B[0;32m    311\u001B[0m                     label\u001B[38;5;241m=\u001B[39m\u001B[38;5;124mf\u001B[39m\u001B[38;5;124m'\u001B[39m\u001B[38;5;124mCircle r = \u001B[39m\u001B[38;5;132;01m{\u001B[39;00m\u001B[38;5;28mself\u001B[39m\u001B[38;5;241m.\u001B[39mgeometry[\u001B[38;5;124m'\u001B[39m\u001B[38;5;124mcircle_radius\u001B[39m\u001B[38;5;124m'\u001B[39m]\u001B[38;5;132;01m}\u001B[39;00m\u001B[38;5;124m μm\u001B[39m\u001B[38;5;124m'\u001B[39m)\n\u001B[0;32m    312\u001B[0m plt\u001B[38;5;241m.\u001B[39mgca()\u001B[38;5;241m.\u001B[39madd_patch(circle)\n",
      "\u001B[1;31mKeyError\u001B[0m: 'circle_radius'"
     ]
    },
    {
     "data": {
      "text/plain": "<Figure size 640x480 with 1 Axes>",
      "image/png": "[encoded data removed]"
     },
     "metadata": {},
     "output_type": "display_data"
    }
   ],
   "source": [
    "lam = 1.550 # microns\n",
    "d = lam/2\n",
    "d*= 10\n",
    "\n",
    "rect = ScatteringStructure(geometry={'type': 'box', 'lx': 200, 'ly': 200},\n",
    "                           arrangement={'type':'rectangular', 'optimization': False,\n",
    "                                        'dist':d},\n",
    "                           scatterer_radius=1.343\n",
    "                           )\n",
    "rect.plot_device()"
   ],
   "metadata": {
    "collapsed": false,
    "ExecuteTime": {
     "end_time": "2023-11-17T14:08:53.023582100Z",
     "start_time": "2023-11-17T14:08:51.293602800Z"
    }
   },
   "id": "475511b2fa77dc1c"
  },
  {
   "cell_type": "code",
   "execution_count": 3,
   "outputs": [
    {
     "name": "stdout",
     "output_type": "stream",
     "text": [
      "Distribution saved to devices_files/rectangular.txt\n"
     ]
    }
   ],
   "source": [
    "rect.save_device(filepath=\"devices_files/rectangular.txt\")"
   ],
   "metadata": {
    "collapsed": false,
    "ExecuteTime": {
     "end_time": "2023-11-17T14:08:58.533542100Z",
     "start_time": "2023-11-17T14:08:58.503665600Z"
    }
   },
   "id": "56d2d9197ab6e0c5"
  },
  {
   "cell_type": "code",
   "execution_count": null,
   "outputs": [],
   "source": [],
   "metadata": {
    "collapsed": false
   },
   "id": "5ef7e44849216293"
  }
 ],
 "metadata": {
  "kernelspec": {
   "display_name": "Python 3",
   "language": "python",
   "name": "python3"
  },
  "language_info": {
   "codemirror_mode": {
    "name": "ipython",
    "version": 2
   },
   "file_extension": ".py",
   "mimetype": "text/x-python",
   "name": "python",
   "nbconvert_exporter": "python",
   "pygments_lexer": "ipython2",
   "version": "2.7.6"
  }
 },
 "nbformat": 4,
 "nbformat_minor": 5
}
