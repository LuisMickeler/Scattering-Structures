{
 "cells": [
  {
   "cell_type": "code",
   "execution_count": 1,
   "outputs": [
    {
     "name": "stderr",
     "output_type": "stream",
     "text": [
      "C:\\Program Files\\Lumerical\\v232\\api\\python\\lumapi.py:895: SyntaxWarning: invalid escape sequence '\\s'\n",
      "  message = re.sub('^(Error:)\\s(prompt line)\\s[0-9]+:', '', str(rvals[2])).strip()\n"
     ]
    }
   ],
   "source": [
    "import numpy as np\n",
    "import matplotlib.pyplot as plt\n",
    "from build_FDTD import build_FDTD"
   ],
   "metadata": {
    "collapsed": false,
    "ExecuteTime": {
     "end_time": "2023-11-28T16:04:17.450533600Z",
     "start_time": "2023-11-28T16:04:16.550166300Z"
    }
   },
   "id": "305057c874fa1bcb"
  },
  {
   "cell_type": "markdown",
   "source": [
    "The goal is to create a photonic crystal for each individual mode exiting the multimodal fiber"
   ],
   "metadata": {
    "collapsed": false
   },
   "id": "3251daf9275b4cdf"
  },
  {
   "cell_type": "code",
   "execution_count": 2,
   "outputs": [],
   "source": [
    "fdtd = build_FDTD(lumerical_name= 'test', crystal_constant=2, injection_angle=-10, fiber_mode=0)"
   ],
   "metadata": {
    "collapsed": false,
    "ExecuteTime": {
     "end_time": "2023-11-28T16:04:25.667794600Z",
     "start_time": "2023-11-28T16:04:17.449536Z"
    }
   },
   "id": "397c509c5868e0b3"
  },
  {
   "cell_type": "code",
   "execution_count": null,
   "id": "initial_id",
   "metadata": {
    "collapsed": true
   },
   "outputs": [],
   "source": [
    "RING = {\n",
    "    \"inner radius\": 0.9384,  # [um]\n",
    "    \"outer radius\": 1.3432,  # [um]\n",
    "    \"height\": 0.070,  # [um]\n",
    "    \"matname\": \"etch\"\n",
    "}"
   ]
  }
 ],
 "metadata": {
  "kernelspec": {
   "display_name": "Python 3",
   "language": "python",
   "name": "python3"
  },
  "language_info": {
   "codemirror_mode": {
    "name": "ipython",
    "version": 2
   },
   "file_extension": ".py",
   "mimetype": "text/x-python",
   "name": "python",
   "nbconvert_exporter": "python",
   "pygments_lexer": "ipython2",
   "version": "2.7.6"
  }
 },
 "nbformat": 4,
 "nbformat_minor": 5
}
