{
 "cells": [
  {
   "cell_type": "code",
   "execution_count": 2,
   "outputs": [
    {
     "name": "stderr",
     "output_type": "stream",
     "text": [
      "C:\\Program Files\\Lumerical\\v232\\api\\python\\lumapi.py:895: SyntaxWarning: invalid escape sequence '\\s'\n",
      "  message = re.sub('^(Error:)\\s(prompt line)\\s[0-9]+:', '', str(rvals[2])).strip()\n"
     ]
    }
   ],
   "source": [
    "import numpy as np\n",
    "import matplotlib.pyplot as plt\n",
    "from build_FDTD import build_FDTD\n",
    "from build_FDTD import build_crystal"
   ],
   "metadata": {
    "collapsed": false,
    "ExecuteTime": {
     "end_time": "2023-12-04T18:29:06.030143200Z",
     "start_time": "2023-12-04T18:29:04.834428200Z"
    }
   },
   "id": "305057c874fa1bcb"
  },
  {
   "cell_type": "markdown",
   "source": [
    "The goal is to create a photonic crystal for each individual mode exiting the multimodal fiber"
   ],
   "metadata": {
    "collapsed": false
   },
   "id": "3251daf9275b4cdf"
  },
  {
   "cell_type": "code",
   "execution_count": 3,
   "outputs": [],
   "source": [
    "fdtd = build_FDTD(lumerical_name= 'test', injection_angle=-20)"
   ],
   "metadata": {
    "collapsed": false,
    "ExecuteTime": {
     "end_time": "2023-12-04T18:29:15.341888300Z",
     "start_time": "2023-12-04T18:29:07.186925400Z"
    }
   },
   "id": "397c509c5868e0b3"
  },
  {
   "cell_type": "code",
   "execution_count": 4,
   "id": "initial_id",
   "metadata": {
    "collapsed": true,
    "ExecuteTime": {
     "end_time": "2023-12-04T18:29:21.346012600Z",
     "start_time": "2023-12-04T18:29:21.337118600Z"
    }
   },
   "outputs": [],
   "source": [
    "RING = {\n",
    "    \"inner_radius\": 0.9384,  # [um]\n",
    "    \"outer_radius\": 1.3432,  # [um]\n",
    "    \"depth\": 0.070,  # [um]\n",
    "    \"matname\": \"etch\"\n",
    "}"
   ]
  },
  {
   "cell_type": "code",
   "execution_count": 5,
   "outputs": [],
   "source": [
    "fdtd.select(\"FDTD::ports::input_port\")\n",
    "fdtd.set(\"mode selection\", \"user select\")\n",
    "fdtd.set(\"selected mode numbers\", 1)"
   ],
   "metadata": {
    "collapsed": false,
    "ExecuteTime": {
     "end_time": "2023-12-04T18:29:22.586527100Z",
     "start_time": "2023-12-04T18:29:22.375804400Z"
    }
   },
   "id": "bccc47390a209f79"
  },
  {
   "cell_type": "code",
   "execution_count": 6,
   "outputs": [
    {
     "name": "stdout",
     "output_type": "stream",
     "text": [
      "0.8001300264666662\n"
     ]
    }
   ],
   "source": [
    "# calculate grating pitch\n",
    "lambda0 = 1.55  # [um]\n",
    "ff = 0.5\n",
    "n_etch = 1.536 # TE0\n",
    "n_wg =  1.65433 # TE0\n",
    "n_eff = n_wg*ff + n_etch*(1-ff)\n",
    "n_clad = 1\n",
    "theta = -20\n",
    "# get pitch\n",
    "pitch = lambda0/(n_eff - n_clad*np.sin(np.deg2rad(theta)))\n",
    "print(pitch)\n",
    "\n",
    "CIRCLE = {\n",
    "    \"radius\": ((1-0.5)*pitch)/2,  # [um]\n",
    "    \"depth\": 0.11,  # [um]\n",
    "    \"matname\": \"etch\"\n",
    "}"
   ],
   "metadata": {
    "collapsed": false,
    "ExecuteTime": {
     "end_time": "2023-12-04T18:29:25.290456700Z",
     "start_time": "2023-12-04T18:29:25.280255300Z"
    }
   },
   "id": "a878df2d3c093041"
  },
  {
   "cell_type": "code",
   "execution_count": 7,
   "outputs": [],
   "source": [
    "crystal_args = {\n",
    "    \"dimension\": 200,\n",
    "    \"crystal_constant\": pitch,\n",
    "    \"scatterer\": \"CIRCLE\",\n",
    "    \"scatterer_kwargs\": CIRCLE,\n",
    "    \"matname\": \"etch\",\n",
    "}\n",
    "build_crystal(fdtd, **crystal_args)"
   ],
   "metadata": {
    "collapsed": false,
    "ExecuteTime": {
     "end_time": "2023-12-04T18:30:50.971141100Z",
     "start_time": "2023-12-04T18:29:32.240674100Z"
    }
   },
   "id": "aa713bf813bc9dc1"
  },
  {
   "cell_type": "markdown",
   "source": [],
   "metadata": {
    "collapsed": false
   },
   "id": "4a2cbe9f9b42cbdf"
  },
  {
   "cell_type": "code",
   "execution_count": null,
   "outputs": [],
   "source": [],
   "metadata": {
    "collapsed": false
   },
   "id": "ca65af7e38de7498"
  }
 ],
 "metadata": {
  "kernelspec": {
   "display_name": "Python 3",
   "language": "python",
   "name": "python3"
  },
  "language_info": {
   "codemirror_mode": {
    "name": "ipython",
    "version": 2
   },
   "file_extension": ".py",
   "mimetype": "text/x-python",
   "name": "python",
   "nbconvert_exporter": "python",
   "pygments_lexer": "ipython2",
   "version": "2.7.6"
  }
 },
 "nbformat": 4,
 "nbformat_minor": 5
}
