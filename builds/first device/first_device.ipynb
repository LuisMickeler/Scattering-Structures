{
 "cells": [
  {
   "cell_type": "markdown",
   "source": [
    "First build rectangular distribution."
   ],
   "metadata": {
    "collapsed": false
   },
   "id": "6070e06fd59ce1f7"
  },
  {
   "cell_type": "code",
   "execution_count": null,
   "id": "initial_id",
   "metadata": {
    "collapsed": true
   },
   "outputs": [],
   "source": [
    "# import the module build in a different folder\n",
    "from scattering_structure.scattering_structure import ScatteringStructure"
   ]
  },
  {
   "cell_type": "code",
   "execution_count": null,
   "outputs": [],
   "source": [
    "rect = ScatteringStructure(geometry={'type': 'box', 'lx': 200, 'ly': 200},\n",
    "                           arrangement={'type':'rectangular', 'dist': 6.44},\n",
    "                           scatterer_radius=1.343\n",
    "                           )\n",
    "rect.plot_distribution()\n",
    "rect_rms = rect.rms()\n",
    "rect_density = rect.density()\n",
    "\n",
    "# print for further use\n",
    "print('Density = ', rect_density, '/um^2')"
   ],
   "metadata": {
    "collapsed": false
   },
   "id": "14382fb306b466fc"
  },
  {
   "cell_type": "markdown",
   "source": [
    "Then build a poisson disc distribution on top of that. Which mimiks the same density\n",
    "#### Note:\n",
    "The geometry is now given as circle i.e., the distribution will automatically be reduced to a circle inside the class."
   ],
   "metadata": {
    "collapsed": false
   },
   "id": "9c8245833b4cc840"
  },
  {
   "cell_type": "code",
   "execution_count": null,
   "outputs": [],
   "source": [
    "pois = ScatteringStructure(geometry={'type': 'circle', 'lx': 200, 'ly': 200,\n",
    "                                     'circle_radius': 90},\n",
    "                           arrangement={'type':'poisson_disc', 'optimization': True,\n",
    "                                        'measure_of_merit':'density',\n",
    "                                        'target_mom': rect_density,\n",
    "                                        'optimization_outer_n': 4,\n",
    "                                        'optimization_inner_n': 8},\n",
    "                           scatterer_radius=1.343\n",
    "                           )\n",
    "pois.plot_distribution()\n",
    "pois_density = pois.density()\n",
    "\n",
    "# print for further use\n",
    "print('Mean of RMS(dist) = ', pois_density, '/um^2')"
   ],
   "metadata": {
    "collapsed": false
   },
   "id": "924b96b3176ca249"
  },
  {
   "cell_type": "markdown",
   "source": [
    "Now plot the distribution after it's been reduced to the desired geometry.\n",
    "#### Note:\n",
    "The points have also been shifted to lie around the origin. Making later exporting to Lumerical or gds easier."
   ],
   "metadata": {
    "collapsed": false
   },
   "id": "d21085c3bcc406eb"
  },
  {
   "cell_type": "code",
   "execution_count": null,
   "outputs": [],
   "source": [
    "pois.plot_device()"
   ],
   "metadata": {
    "collapsed": false
   },
   "id": "990b84bb1ed5103f"
  },
  {
   "cell_type": "markdown",
   "source": [
    "Save the distribution to a file"
   ],
   "metadata": {
    "collapsed": false
   },
   "id": "f5e16317e3a6ea27"
  },
  {
   "cell_type": "code",
   "execution_count": null,
   "outputs": [],
   "source": [
    "pois.save_device(filepath='first_device.txt')"
   ],
   "metadata": {
    "collapsed": false
   },
   "id": "7aa8575c3d862ece"
  },
  {
   "cell_type": "markdown",
   "source": [
    "### Load first device and it's distribution"
   ],
   "metadata": {
    "collapsed": false
   },
   "id": "f90e90e90a86d64e"
  },
  {
   "cell_type": "code",
   "execution_count": null,
   "outputs": [],
   "source": [
    "load_pois =  ScatteringStructure(geometry={'type': 'load_from_file'},\n",
    "                                 arrangement={'type': 'load_from_file', \n",
    "                                              'filepath': 'first_device.txt'},\n",
    "                                 scatterer_radius=1.343\n",
    "                           )"
   ],
   "metadata": {
    "collapsed": false
   },
   "id": "cd2cc001ec0118ea"
  },
  {
   "cell_type": "markdown",
   "source": [
    "Let's try plotting the distribution again"
   ],
   "metadata": {
    "collapsed": false
   },
   "id": "d4ac47950f8e2b38"
  },
  {
   "cell_type": "code",
   "execution_count": null,
   "outputs": [],
   "source": [
    "load_pois.plot_distribution()"
   ],
   "metadata": {
    "collapsed": false
   },
   "id": "d811dd72f51b1010"
  },
  {
   "cell_type": "markdown",
   "source": [
    "## Create structure inside lumerical"
   ],
   "metadata": {
    "collapsed": false
   },
   "id": "7c67df1df68fa167"
  },
  {
   "cell_type": "code",
   "execution_count": 1,
   "outputs": [
    {
     "name": "stderr",
     "output_type": "stream",
     "text": [
      "C:\\Program Files\\Lumerical\\v232\\api\\python\\lumapi.py:882: SyntaxWarning: invalid escape sequence '\\s'\n",
      "  message = re.sub('^(Error:)\\s(prompt line)\\s[0-9]+:', '', str(rvals[2])).strip()\n"
     ]
    }
   ],
   "source": [
    "import importlib.util\n",
    "import os\n",
    "\n",
    "# Add the DLL directory\n",
    "os.add_dll_directory(\"C:\\\\Program Files\\\\Lumerical\\\\v232\\\\api\\\\python\")\n",
    "\n",
    "# Define the module name and file path\n",
    "module_name = \"lumapi\"\n",
    "file_path = \"C:\\\\Program Files\\\\Lumerical\\\\v232\\\\api\\\\python\\\\lumapi.py\"\n",
    "\n",
    "def load_module_from_file(module_name, file_path):\n",
    "    spec = importlib.util.spec_from_file_location(module_name, file_path)\n",
    "    module = importlib.util.module_from_spec(spec)\n",
    "    spec.loader.exec_module(module)\n",
    "    return module\n",
    "\n",
    "# Load the module\n",
    "lumapi = load_module_from_file(module_name, file_path)"
   ],
   "metadata": {
    "collapsed": false,
    "ExecuteTime": {
     "end_time": "2023-10-11T15:13:41.731263200Z",
     "start_time": "2023-10-11T15:13:41.554639700Z"
    }
   },
   "id": "fa18685fddadcfcb"
  },
  {
   "cell_type": "code",
   "execution_count": 2,
   "outputs": [],
   "source": [
    "## Constants\n",
    "wavelength = 1.55 # central wavelength \n",
    "block_length = 210\n",
    "block_width = 210\n",
    "\n",
    "\n",
    "WG = {\n",
    "    \"length\": block_length,\n",
    "    \"width\": block_width,\n",
    "    \"height\": 0.22,\n",
    "    \"matname\": \"Si3N4 (Silicon Nitride) - Luke\"\n",
    "}\n",
    "\n",
    "BOX = {\n",
    "    \"length\": block_length,\n",
    "    \"width\": block_width,\n",
    "    \"height\": 3,\n",
    "    \"matname\": \"SiO2 (Glass) - Palik\"\n",
    "}\n",
    "\n",
    "SUB = {\n",
    "    \"length\": block_length,\n",
    "    \"width\": block_width,\n",
    "    \"height\": 1,\n",
    "    \"matname\": \"Si (Silicon) - Palik\"\n",
    "}\n",
    "\n",
    "AIR = {\n",
    "    \"length\": block_length,\n",
    "    \"width\": block_width,\n",
    "    \"height\": 5,\n",
    "    \"matname\": \"etch\"\n",
    "}\n"
   ],
   "metadata": {
    "collapsed": false,
    "ExecuteTime": {
     "end_time": "2023-10-11T15:13:42.339757Z",
     "start_time": "2023-10-11T15:13:42.335254200Z"
    }
   },
   "id": "ca8937e6e8f0300"
  },
  {
   "cell_type": "markdown",
   "source": [
    "#### SiO2, Si3N4, Air stack"
   ],
   "metadata": {
    "collapsed": false
   },
   "id": "ba8e5f8cbfaabf3a"
  },
  {
   "cell_type": "code",
   "execution_count": 3,
   "outputs": [],
   "source": [
    "fdtd = lumapi.FDTD()\n",
    "# SiO2\n",
    "fdtd.addrect()\n",
    "fdtd.set('name', 'SUB')\n",
    "coordinates = {\"x\": 0,\n",
    "                   \"x span\": SUB[\"length\"] * 1e-6,\n",
    "                   \"y\": 0,\n",
    "                   \"y span\": SUB[\"width\"] * 1e-6,\n",
    "                   \"z min\": 0,\n",
    "                   \"z max\": SUB[\"height\"] * 1e-6}\n",
    "fdtd.set(coordinates)\n",
    "fdtd.select('SUB')\n",
    "fdtd.set('material', SUB[\"matname\"])\n",
    "# default settings\n",
    "fdtd.set('color opacity', 0.5)\n",
    "fdtd.set('override mesh order from material database', 1)\n",
    "fdtd.set('mesh order', 3)\n",
    "# Si3N4\n",
    "fdtd.addrect()\n",
    "fdtd.set('name', 'WG')\n",
    "coordinates = {\"x\": 0,\n",
    "                   \"x span\": WG[\"length\"] * 1e-6,\n",
    "                   \"y\": 0,\n",
    "                   \"y span\": WG[\"width\"] * 1e-6,\n",
    "                   \"z min\": WG[\"height\"] * 1e-6,\n",
    "                   \"z max\": (SUB[\"height\"] + WG[\"height\"]) * 1e-6}\n",
    "fdtd.set(coordinates)\n",
    "fdtd.select('WG')\n",
    "fdtd.set('material', WG[\"matname\"])\n",
    "# default settings\n",
    "fdtd.set('color opacity', 0.5)\n",
    "fdtd.set('override mesh order from material database', 1)\n",
    "fdtd.set('mesh order', 3)\n",
    "# Air\n",
    "fdtd.addrect()\n",
    "fdtd.set('name', 'AIR')\n",
    "coordinates = {\"x\": 0,\n",
    "                   \"x span\": AIR[\"length\"] * 1e-6,\n",
    "                   \"y\": 0,\n",
    "                   \"y span\": AIR[\"width\"] * 1e-6,\n",
    "                   \"z min\": AIR[\"height\"] * 1e-6,\n",
    "                   \"z max\": (SUB[\"height\"] + WG[\"height\"] + AIR[\"height\"]) * 1e-6}\n",
    "fdtd.set(coordinates)\n",
    "fdtd.select('AIR')\n",
    "fdtd.set('material', AIR[\"matname\"])\n",
    "# default settings\n",
    "fdtd.set('color opacity', 0.5)\n",
    "fdtd.set('override mesh order from material database', 1)\n",
    "fdtd.set('mesh order', 3)"
   ],
   "metadata": {
    "collapsed": false,
    "ExecuteTime": {
     "end_time": "2023-10-11T15:13:49.583459500Z",
     "start_time": "2023-10-11T15:13:43.440699400Z"
    }
   },
   "id": "f9c689a88ed6ae7c"
  },
  {
   "cell_type": "code",
   "execution_count": null,
   "outputs": [],
   "source": [],
   "metadata": {
    "collapsed": false
   },
   "id": "71d73f78f0b5ab7a"
  }
 ],
 "metadata": {
  "kernelspec": {
   "display_name": "Python 3",
   "language": "python",
   "name": "python3"
  },
  "language_info": {
   "codemirror_mode": {
    "name": "ipython",
    "version": 2
   },
   "file_extension": ".py",
   "mimetype": "text/x-python",
   "name": "python",
   "nbconvert_exporter": "python",
   "pygments_lexer": "ipython2",
   "version": "2.7.6"
  }
 },
 "nbformat": 4,
 "nbformat_minor": 5
}
